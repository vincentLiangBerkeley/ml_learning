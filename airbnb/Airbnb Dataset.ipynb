{
 "cells": [
  {
   "cell_type": "code",
   "execution_count": 56,
   "metadata": {
    "collapsed": false,
    "nbpresent": {
     "id": "58413a46-7274-4ad5-abe9-bd5a4982c4ba"
    }
   },
   "outputs": [],
   "source": [
    "import numpy as np\n",
    "import pandas as pd\n",
    "import matplotlib.pyplot as plt\n",
    "%matplotlib inline"
   ]
  },
  {
   "cell_type": "code",
   "execution_count": 79,
   "metadata": {
    "collapsed": false,
    "nbpresent": {
     "id": "8f053798-fd31-4dbe-9076-1b59c0fee247"
    }
   },
   "outputs": [
    {
     "name": "stdout",
     "output_type": "stream",
     "text": [
      "There are 213451 data points in the training set, 62096 in the test set, 275547 in total.\n",
      "Index([u'id', u'date_account_created', u'timestamp_first_active',\n",
      "       u'date_first_booking', u'gender', u'age', u'signup_method',\n",
      "       u'signup_flow', u'language', u'affiliate_channel',\n",
      "       u'affiliate_provider', u'first_affiliate_tracked', u'signup_app',\n",
      "       u'first_device_type', u'first_browser', u'country_destination'],\n",
      "      dtype='object')\n",
      "Index([u'id', u'date_account_created', u'timestamp_first_active',\n",
      "       u'date_first_booking', u'gender', u'age', u'signup_method',\n",
      "       u'signup_flow', u'language', u'affiliate_channel',\n",
      "       u'affiliate_provider', u'first_affiliate_tracked', u'signup_app',\n",
      "       u'first_device_type', u'first_browser'],\n",
      "      dtype='object')\n"
     ]
    }
   ],
   "source": [
    "# Loading in the training and testing dataset\n",
    "train_users = pd.read_csv('./train_users_2.csv')\n",
    "test_users = pd.read_csv('./test_users.csv')\n",
    "print 'There are %d data points in the training set, %d in the test set, %d in total.' % (train_users.shape[0], test_users.shape[0], train_users.shape[0] + test_users.shape[0])\n",
    "print train_users.columns\n",
    "print test_users.columns"
   ]
  },
  {
   "cell_type": "markdown",
   "metadata": {},
   "source": [
    "# Data exploration"
   ]
  },
  {
   "cell_type": "code",
   "execution_count": 89,
   "metadata": {
    "collapsed": false,
    "nbpresent": {
     "id": "9b926691-ac28-4619-9d9d-a73d9a5b2f13"
    }
   },
   "outputs": [
    {
     "data": {
      "text/html": [
       "<div>\n",
       "<table border=\"1\" class=\"dataframe\">\n",
       "  <thead>\n",
       "    <tr style=\"text-align: right;\">\n",
       "      <th></th>\n",
       "      <th>affiliate_channel</th>\n",
       "      <th>affiliate_provider</th>\n",
       "      <th>age</th>\n",
       "      <th>country_destination</th>\n",
       "      <th>date_account_created</th>\n",
       "      <th>date_first_booking</th>\n",
       "      <th>first_affiliate_tracked</th>\n",
       "      <th>first_browser</th>\n",
       "      <th>first_device_type</th>\n",
       "      <th>gender</th>\n",
       "      <th>language</th>\n",
       "      <th>signup_app</th>\n",
       "      <th>signup_flow</th>\n",
       "      <th>signup_method</th>\n",
       "      <th>timestamp_first_active</th>\n",
       "    </tr>\n",
       "  </thead>\n",
       "  <tbody>\n",
       "    <tr>\n",
       "      <th>0</th>\n",
       "      <td>direct</td>\n",
       "      <td>direct</td>\n",
       "      <td>NaN</td>\n",
       "      <td>NDF</td>\n",
       "      <td>2010-06-28</td>\n",
       "      <td>NaN</td>\n",
       "      <td>untracked</td>\n",
       "      <td>Chrome</td>\n",
       "      <td>Mac Desktop</td>\n",
       "      <td>-unknown-</td>\n",
       "      <td>en</td>\n",
       "      <td>Web</td>\n",
       "      <td>0</td>\n",
       "      <td>facebook</td>\n",
       "      <td>20090319043255</td>\n",
       "    </tr>\n",
       "    <tr>\n",
       "      <th>1</th>\n",
       "      <td>seo</td>\n",
       "      <td>google</td>\n",
       "      <td>38.0</td>\n",
       "      <td>NDF</td>\n",
       "      <td>2011-05-25</td>\n",
       "      <td>NaN</td>\n",
       "      <td>untracked</td>\n",
       "      <td>Chrome</td>\n",
       "      <td>Mac Desktop</td>\n",
       "      <td>MALE</td>\n",
       "      <td>en</td>\n",
       "      <td>Web</td>\n",
       "      <td>0</td>\n",
       "      <td>facebook</td>\n",
       "      <td>20090523174809</td>\n",
       "    </tr>\n",
       "    <tr>\n",
       "      <th>2</th>\n",
       "      <td>direct</td>\n",
       "      <td>direct</td>\n",
       "      <td>56.0</td>\n",
       "      <td>US</td>\n",
       "      <td>2010-09-28</td>\n",
       "      <td>2010-08-02</td>\n",
       "      <td>untracked</td>\n",
       "      <td>IE</td>\n",
       "      <td>Windows Desktop</td>\n",
       "      <td>FEMALE</td>\n",
       "      <td>en</td>\n",
       "      <td>Web</td>\n",
       "      <td>3</td>\n",
       "      <td>basic</td>\n",
       "      <td>20090609231247</td>\n",
       "    </tr>\n",
       "    <tr>\n",
       "      <th>3</th>\n",
       "      <td>direct</td>\n",
       "      <td>direct</td>\n",
       "      <td>42.0</td>\n",
       "      <td>other</td>\n",
       "      <td>2011-12-05</td>\n",
       "      <td>2012-09-08</td>\n",
       "      <td>untracked</td>\n",
       "      <td>Firefox</td>\n",
       "      <td>Mac Desktop</td>\n",
       "      <td>FEMALE</td>\n",
       "      <td>en</td>\n",
       "      <td>Web</td>\n",
       "      <td>0</td>\n",
       "      <td>facebook</td>\n",
       "      <td>20091031060129</td>\n",
       "    </tr>\n",
       "    <tr>\n",
       "      <th>4</th>\n",
       "      <td>direct</td>\n",
       "      <td>direct</td>\n",
       "      <td>41.0</td>\n",
       "      <td>US</td>\n",
       "      <td>2010-09-14</td>\n",
       "      <td>2010-02-18</td>\n",
       "      <td>untracked</td>\n",
       "      <td>Chrome</td>\n",
       "      <td>Mac Desktop</td>\n",
       "      <td>-unknown-</td>\n",
       "      <td>en</td>\n",
       "      <td>Web</td>\n",
       "      <td>0</td>\n",
       "      <td>basic</td>\n",
       "      <td>20091208061105</td>\n",
       "    </tr>\n",
       "  </tbody>\n",
       "</table>\n",
       "</div>"
      ],
      "text/plain": [
       "  affiliate_channel affiliate_provider   age country_destination  \\\n",
       "0            direct             direct   NaN                 NDF   \n",
       "1               seo             google  38.0                 NDF   \n",
       "2            direct             direct  56.0                  US   \n",
       "3            direct             direct  42.0               other   \n",
       "4            direct             direct  41.0                  US   \n",
       "\n",
       "  date_account_created date_first_booking first_affiliate_tracked  \\\n",
       "0           2010-06-28                NaN               untracked   \n",
       "1           2011-05-25                NaN               untracked   \n",
       "2           2010-09-28         2010-08-02               untracked   \n",
       "3           2011-12-05         2012-09-08               untracked   \n",
       "4           2010-09-14         2010-02-18               untracked   \n",
       "\n",
       "  first_browser first_device_type     gender language signup_app  signup_flow  \\\n",
       "0        Chrome       Mac Desktop  -unknown-       en        Web            0   \n",
       "1        Chrome       Mac Desktop       MALE       en        Web            0   \n",
       "2            IE   Windows Desktop     FEMALE       en        Web            3   \n",
       "3       Firefox       Mac Desktop     FEMALE       en        Web            0   \n",
       "4        Chrome       Mac Desktop  -unknown-       en        Web            0   \n",
       "\n",
       "  signup_method  timestamp_first_active  \n",
       "0      facebook          20090319043255  \n",
       "1      facebook          20090523174809  \n",
       "2         basic          20090609231247  \n",
       "3      facebook          20091031060129  \n",
       "4         basic          20091208061105  "
      ]
     },
     "execution_count": 89,
     "metadata": {},
     "output_type": "execute_result"
    }
   ],
   "source": [
    "# Now take a look at the training set\n",
    "users = pd.concat([train_users, test_users], axis=0,ignore_index=True)\n",
    "users.drop('id', axis=1,inplace=True)\n",
    "users.head()"
   ]
  },
  {
   "cell_type": "code",
   "execution_count": 90,
   "metadata": {
    "collapsed": false
   },
   "outputs": [
    {
     "name": "stdout",
     "output_type": "stream",
     "text": [
      "There are 129480 users with unknown gender\n",
      "Now valid user count is 275547\n"
     ]
    }
   ],
   "source": [
    "# Now lets take a look at gender\n",
    "print 'There are %d users with unknown gender' % (users[users['gender'] == '-unknown-'].shape[0])\n",
    "users['gender'].replace('-unknown-', np.nan, inplace=True)\n",
    "print 'Now valid user count is %d' % (users.shape[0])"
   ]
  },
  {
   "cell_type": "code",
   "execution_count": 91,
   "metadata": {
    "collapsed": false
   },
   "outputs": [
    {
     "data": {
      "text/plain": [
       "age                        42.412365\n",
       "country_destination        22.535538\n",
       "date_first_booking         67.733998\n",
       "first_affiliate_tracked     2.208335\n",
       "gender                     46.990169\n",
       "dtype: float64"
      ]
     },
     "execution_count": 91,
     "metadata": {},
     "output_type": "execute_result"
    }
   ],
   "source": [
    "# Now lets look at how much data is missing\n",
    "users_nan = (users.isnull().sum() / users.shape[0]) * 100\n",
    "users_nan[users_nan > 0]\n",
    "# So there is quite a lot of data missing"
   ]
  },
  {
   "cell_type": "code",
   "execution_count": 92,
   "metadata": {
    "collapsed": false
   },
   "outputs": [
    {
     "name": "stdout",
     "output_type": "stream",
     "text": [
      "Number of users with finite age is 158681\n",
      "Number of users older than 90 is 2928\n",
      "Number of users younger than 18 is 188\n"
     ]
    }
   ],
   "source": [
    "print 'Number of users with finite age is %d' % (users[np.isfinite(users['age'])].shape[0])\n",
    "print 'Number of users older than 90 is %d' % (users[users['age'] > 90].shape[0])\n",
    "print 'Number of users younger than 18 is %d' % (users[users['age'] < 18].shape[0])"
   ]
  },
  {
   "cell_type": "code",
   "execution_count": 93,
   "metadata": {
    "collapsed": false
   },
   "outputs": [
    {
     "data": {
      "text/plain": [
       "count    2928.000000\n",
       "mean      642.572063\n",
       "std       857.062041\n",
       "min        91.000000\n",
       "25%       105.000000\n",
       "50%       105.000000\n",
       "75%      2013.000000\n",
       "max      2014.000000\n",
       "Name: age, dtype: float64"
      ]
     },
     "execution_count": 93,
     "metadata": {},
     "output_type": "execute_result"
    }
   ],
   "source": [
    "very_old_users = users[users['age'] > 90]\n",
    "very_young_users = users[users['age'] < 13]\n",
    "very_old_users['age'].describe()"
   ]
  },
  {
   "cell_type": "code",
   "execution_count": 94,
   "metadata": {
    "collapsed": false
   },
   "outputs": [
    {
     "data": {
      "image/png": "[encoded data removed]",
      "text/plain": [
       "<matplotlib.figure.Figure at 0x134089bd0>"
      ]
     },
     "metadata": {},
     "output_type": "display_data"
    }
   ],
   "source": [
    "n, bins, patches = plt.hist(very_old_users['age'], bins = 10)"
   ]
  },
  {
   "cell_type": "code",
   "execution_count": 95,
   "metadata": {
    "collapsed": true
   },
   "outputs": [],
   "source": [
    "# Make invalid ages nan\n",
    "users.loc[users['age'] > 95] = np.nan\n",
    "users.loc[users['age'] < 16] = np.nan"
   ]
  },
  {
   "cell_type": "code",
   "execution_count": 97,
   "metadata": {
    "collapsed": false
   },
   "outputs": [
    {
     "data": {
      "text/plain": [
       "0    direct\n",
       "1       seo\n",
       "2    direct\n",
       "3    direct\n",
       "4    direct\n",
       "Name: affiliate_channel, dtype: category\n",
       "Categories (8, object): [api, content, direct, other, remarketing, sem-brand, sem-non-brand, seo]"
      ]
     },
     "execution_count": 97,
     "metadata": {},
     "output_type": "execute_result"
    }
   ],
   "source": [
    "# Now lets look at the categorical data\n",
    "categorical = ['affiliate_channel', 'affiliate_provider', 'first_affiliate_tracked', 'first_browser'\n",
    "              , 'first_device_type', 'gender', 'language', 'signup_app', 'signup_flow', 'signup_method']\n",
    "for category in categorical:\n",
    "    users[category] = users[category].astype('category')\n",
    "users.ix[0:4,categorical[0]]"
   ]
  },
  {
   "cell_type": "code",
   "execution_count": 114,
   "metadata": {
    "collapsed": false
   },
   "outputs": [
    {
     "name": "stdout",
     "output_type": "stream",
     "text": [
      "Now we have 272682 valid users.\n"
     ]
    }
   ],
   "source": [
    "users = users[~np.isnan(users['timestamp_first_active'])]\n",
    "print \"Now we have %d valid users.\" % (users.shape[0])"
   ]
  },
  {
   "cell_type": "code",
   "execution_count": 118,
   "metadata": {
    "collapsed": false
   },
   "outputs": [],
   "source": [
    "# Now lets take care of the date and time data\n",
    "users['date_account_created'] = pd.to_datetime(users['date_account_created'])\n",
    "users['date_first_booking'] = pd.to_datetime(users['date_first_booking'])\n",
    "users['timestamp_first_active'] = users['timestamp_first_active'].astype(int)\n",
    "users['timestamp_first_active'] = pd.to_datetime((users['timestamp_first_active']//1000000), format='%Y%m%d')"
   ]
  },
  {
   "cell_type": "code",
   "execution_count": 121,
   "metadata": {
    "collapsed": false
   },
   "outputs": [
    {
     "name": "stdout",
     "output_type": "stream",
     "text": [
      "affiliate_channel                category\n",
      "affiliate_provider               category\n",
      "age                               float64\n",
      "country_destination                object\n",
      "date_account_created       datetime64[ns]\n",
      "date_first_booking         datetime64[ns]\n",
      "first_affiliate_tracked          category\n",
      "first_browser                    category\n",
      "first_device_type                category\n",
      "gender                           category\n",
      "language                         category\n",
      "signup_app                       category\n",
      "signup_flow                      category\n",
      "signup_method                    category\n",
      "timestamp_first_active     datetime64[ns]\n",
      "dtype: object\n"
     ]
    }
   ],
   "source": [
    "# Now lets look at the types of our data\n",
    "print users.dtypes"
   ]
  },
  {
   "cell_type": "markdown",
   "metadata": {},
   "source": [
    "# Visualization of features"
   ]
  },
  {
   "cell_type": "code",
   "execution_count": 126,
   "metadata": {
    "collapsed": false
   },
   "outputs": [
    {
     "data": {
      "text/plain": [
       "<matplotlib.axes._subplots.AxesSubplot at 0x124096dd0>"
      ]
     },
     "execution_count": 126,
     "metadata": {},
     "output_type": "execute_result"
    },
    {
     "data": {
      "image/png": "[encoded data removed]",
      "text/plain": [
       "<matplotlib.figure.Figure at 0x123649490>"
      ]
     },
     "metadata": {},
     "output_type": "display_data"
    }
   ],
   "source": [
    "# Gender\n",
    "users['gender'].value_counts(dropna=False).plot(kind='bar')"
   ]
  },
  {
   "cell_type": "code",
   "execution_count": 167,
   "metadata": {
    "collapsed": true
   },
   "outputs": [],
   "source": [
    "def printPercentage(df1, df2, label1, label2):\n",
    "    def convertToPrctg(series):\n",
    "        return series.value_counts() / sum(series.value_counts()) * 100\n",
    "    df1_dest = convertToPrctg(df1['country_destination'])\n",
    "    df2_dest = convertToPrctg(df2['country_destination'])\n",
    "    df1_dest.plot(kind='bar', width=0.4, color='yellow', position=0, label=label1)\n",
    "    df2_dest.plot(kind='bar', width=0.4, color='green', position=1, label=label2)\n",
    "    \n",
    "    plt.legend()\n",
    "    plt.xlabel('Destination')\n",
    "    plt.ylabel('Perncentage')"
   ]
  },
  {
   "cell_type": "code",
   "execution_count": 168,
   "metadata": {
    "collapsed": false
   },
   "outputs": [
    {
     "data": {
      "image/png": "[encoded data removed]",
      "text/plain": [
       "<matplotlib.figure.Figure at 0x130d0afd0>"
      ]
     },
     "metadata": {},
     "output_type": "display_data"
    }
   ],
   "source": [
    "women = users[users['gender'] == 'FEMALE']\n",
    "men = users[users['gender'] == 'MALE']\n",
    "printPercentage(women, men, 'women', 'men')"
   ]
  },
  {
   "cell_type": "markdown",
   "metadata": {},
   "source": [
    "There is not much difference between the two genders, so it might not be a vary good indicator."
   ]
  },
  {
   "cell_type": "code",
   "execution_count": 135,
   "metadata": {
    "collapsed": false
   },
   "outputs": [
    {
     "data": {
      "text/plain": [
       "<matplotlib.text.Text at 0x119492290>"
      ]
     },
     "execution_count": 135,
     "metadata": {},
     "output_type": "execute_result"
    },
    {
     "data": {
      "image/png": "[encoded data removed]",
      "text/plain": [
       "<matplotlib.figure.Figure at 0x11afa68d0>"
      ]
     },
     "metadata": {},
     "output_type": "display_data"
    }
   ],
   "source": [
    "dest = users['country_destination'].value_counts() / users.shape[0] * 100\n",
    "dest.plot(kind='bar', color='red')\n",
    "plt.xlabel('Destination')\n",
    "plt.ylabel('Percentage')"
   ]
  },
  {
   "cell_type": "code",
   "execution_count": 138,
   "metadata": {
    "collapsed": false
   },
   "outputs": [
    {
     "data": {
      "image/png": "[encoded data removed]",
      "text/plain": [
       "<matplotlib.figure.Figure at 0x1162c2210>"
      ]
     },
     "metadata": {},
     "output_type": "display_data"
    }
   ],
   "source": [
    "# Take a look at the difference among ages\n",
    "n, bins, patches = plt.hist(users['age'].dropna(), bins=10, color='gray')"
   ]
  },
  {
   "cell_type": "markdown",
   "metadata": {},
   "source": [
    "We can see that majority of users are from 30 to 40 years old"
   ]
  },
  {
   "cell_type": "code",
   "execution_count": 169,
   "metadata": {
    "collapsed": false
   },
   "outputs": [
    {
     "data": {
      "image/png": "[encoded data removed]",
      "text/plain": [
       "<matplotlib.figure.Figure at 0x130d02990>"
      ]
     },
     "metadata": {},
     "output_type": "display_data"
    }
   ],
   "source": [
    "# Lets set an age separator and look at the destination distribution\n",
    "AGE = 35\n",
    "young = users[users['age']<= AGE]\n",
    "old = users[users['age']>AGE]\n",
    "printPercentage(young, old, 'young', 'old')"
   ]
  },
  {
   "cell_type": "markdown",
   "metadata": {},
   "source": [
    "There is not much difference in destination for young and old users either"
   ]
  },
  {
   "cell_type": "code",
   "execution_count": 146,
   "metadata": {
    "collapsed": false
   },
   "outputs": [
    {
     "data": {
      "text/plain": [
       "<matplotlib.axes._subplots.AxesSubplot at 0x12387aad0>"
      ]
     },
     "execution_count": 146,
     "metadata": {},
     "output_type": "execute_result"
    },
    {
     "data": {
      "image/png": "[encoded data removed]",
      "text/plain": [
       "<matplotlib.figure.Figure at 0x11b2f6410>"
      ]
     },
     "metadata": {},
     "output_type": "display_data"
    }
   ],
   "source": [
    "# Now lets take a look at different dates\n",
    "users['date_account_created'].value_counts().plot(kind='line', color='red')"
   ]
  },
  {
   "cell_type": "code",
   "execution_count": 149,
   "metadata": {
    "collapsed": false
   },
   "outputs": [
    {
     "data": {
      "text/plain": [
       "<matplotlib.axes._subplots.AxesSubplot at 0x1198797d0>"
      ]
     },
     "execution_count": 149,
     "metadata": {},
     "output_type": "execute_result"
    },
    {
     "data": {
      "image/png": "[encoded data removed]",
      "text/plain": [
       "<matplotlib.figure.Figure at 0x12403d0d0>"
      ]
     },
     "metadata": {},
     "output_type": "display_data"
    }
   ],
   "source": [
    "users['date_first_booking'].value_counts().plot(kind='line', color='red')"
   ]
  },
  {
   "cell_type": "markdown",
   "metadata": {},
   "source": [
    "It seems that account creation and booking events have some time pattern, let us take a closer look into time pattern with destination."
   ]
  },
  {
   "cell_type": "code",
   "execution_count": 170,
   "metadata": {
    "collapsed": false
   },
   "outputs": [
    {
     "data": {
      "image/png": "[encoded data removed]",
      "text/plain": [
       "<matplotlib.figure.Figure at 0x127ff1ed0>"
      ]
     },
     "metadata": {},
     "output_type": "display_data"
    }
   ],
   "source": [
    "DATE = pd.to_datetime('2014-01-01')\n",
    "early = users[users['date_account_created'] <= DATE]\n",
    "late = users[users['date_account_created'] > DATE]\n",
    "\n",
    "printPercentage(early, late, 'early', 'late')"
   ]
  },
  {
   "cell_type": "markdown",
   "metadata": {},
   "source": [
    "We can see that later users tend not to book, and when they book, most of them will stay in US, so this is a good indicator."
   ]
  },
  {
   "cell_type": "code",
   "execution_count": 171,
   "metadata": {
    "collapsed": false
   },
   "outputs": [
    {
     "data": {
      "image/png": "[encoded data removed]",
      "text/plain": [
       "<matplotlib.figure.Figure at 0x12403d910>"
      ]
     },
     "metadata": {},
     "output_type": "display_data"
    }
   ],
   "source": [
    "early_booking = users[users['date_first_booking'] <= DATE]\n",
    "late_booking = users[users['date_first_booking'] > DATE]\n",
    "printPercentage(early_booking, late_booking, 'early', 'late')"
   ]
  },
  {
   "cell_type": "markdown",
   "metadata": {},
   "source": [
    "There is not much difference in terms of date first booking."
   ]
  },
  {
   "cell_type": "code",
   "execution_count": 172,
   "metadata": {
    "collapsed": false
   },
   "outputs": [
    {
     "data": {
      "image/png": "[encoded data removed]",
      "text/plain": [
       "<matplotlib.figure.Figure at 0x12406a150>"
      ]
     },
     "metadata": {},
     "output_type": "display_data"
    }
   ],
   "source": [
    "early_active = users[users['timestamp_first_active'] <= DATE]\n",
    "late_active = users[users['timestamp_first_active'] > DATE]\n",
    "printPercentage(early_active, late_active, 'early', 'late')"
   ]
  },
  {
   "cell_type": "markdown",
   "metadata": {},
   "source": [
    "This is consistent with date account created, as early people tend to book more and stay in the US more."
   ]
  },
  {
   "cell_type": "code",
   "execution_count": 166,
   "metadata": {
    "collapsed": false
   },
   "outputs": [
    {
     "name": "stdout",
     "output_type": "stream",
     "text": [
      "NDF      56.577810\n",
      "US       30.505145\n",
      "other     4.655543\n",
      "FR        2.602170\n",
      "IT        1.339124\n",
      "GB        1.152991\n",
      "ES        1.120492\n",
      "CA        0.711294\n",
      "DE        0.584990\n",
      "NL        0.370789\n",
      "AU        0.281415\n",
      "PT        0.098237\n",
      "Name: country_destination, dtype: float64\n",
      "75561 137295\n"
     ]
    }
   ],
   "source": [
    "print early['country_destination'].value_counts() / early.shape[0] * 100\n",
    "print sum(late['country_destination'].value_counts()), late.shape[0]"
   ]
  },
  {
   "cell_type": "code",
   "execution_count": null,
   "metadata": {
    "collapsed": true
   },
   "outputs": [],
   "source": []
  }
 ],
 "metadata": {
  "kernelspec": {
   "display_name": "Python [Root]",
   "language": "python",
   "name": "Python [Root]"
  },
  "language_info": {
   "codemirror_mode": {
    "name": "ipython",
    "version": 2
   },
   "file_extension": ".py",
   "mimetype": "text/x-python",
   "name": "python",
   "nbconvert_exporter": "python",
   "pygments_lexer": "ipython2",
   "version": "2.7.12"
  },
  "nbpresent": {
   "slides": {
    "37b9cea2-2110-452f-a2b3-35bfeb85fe76": {
     "id": "37b9cea2-2110-452f-a2b3-35bfeb85fe76",
     "prev": "3c3ed501-8aa6-4c22-8118-8331c33ec8e7",
     "regions": {
      "459b1f83-04c6-4eb2-836b-9dacab4e1c54": {
       "attrs": {
        "height": 0.8,
        "width": 0.8,
        "x": 0.1,
        "y": 0.1
       },
       "content": {
        "cell": "c1d0c00f-1361-429d-b09d-50a067b57237",
        "part": "whole"
       },
       "id": "459b1f83-04c6-4eb2-836b-9dacab4e1c54"
      }
     }
    },
    "3c3ed501-8aa6-4c22-8118-8331c33ec8e7": {
     "id": "3c3ed501-8aa6-4c22-8118-8331c33ec8e7",
     "prev": "99152031-ca60-470b-a4ab-b283bd43f1d5",
     "regions": {
      "daa230bf-7cfd-4570-96bf-e23eb6534e9b": {
       "attrs": {
        "height": 0.8,
        "width": 0.8,
        "x": 0.1,
        "y": 0.1
       },
       "content": {
        "cell": "c1472456-43eb-4a02-9510-21a5a8c18a2f",
        "part": "whole"
       },
       "id": "daa230bf-7cfd-4570-96bf-e23eb6534e9b"
      }
     }
    },
    "3d41fb49-3ad8-424d-9abb-4682c5623f8e": {
     "id": "3d41fb49-3ad8-424d-9abb-4682c5623f8e",
     "prev": "9a7b1d88-19b0-4e19-aeb5-fdd0cbc5cea3",
     "regions": {
      "39a087b3-f2f6-4b68-ae6a-6abe721e5b1f": {
       "attrs": {
        "height": 0.8,
        "width": 0.8000000000000002,
        "x": -0.005011933174224398,
        "y": 0.05757093609122246
       },
       "content": {
        "cell": "8f053798-fd31-4dbe-9076-1b59c0fee247",
        "part": "outputs"
       },
       "id": "39a087b3-f2f6-4b68-ae6a-6abe721e5b1f"
      }
     }
    },
    "99152031-ca60-470b-a4ab-b283bd43f1d5": {
     "id": "99152031-ca60-470b-a4ab-b283bd43f1d5",
     "prev": "3d41fb49-3ad8-424d-9abb-4682c5623f8e",
     "regions": {
      "e7115602-2135-494a-b2eb-92ae85735cea": {
       "attrs": {
        "height": 0.8,
        "width": 0.8,
        "x": 0.1,
        "y": 0.1
       },
       "content": {
        "cell": "9b926691-ac28-4619-9d9d-a73d9a5b2f13",
        "part": "source"
       },
       "id": "e7115602-2135-494a-b2eb-92ae85735cea"
      }
     }
    },
    "9a7b1d88-19b0-4e19-aeb5-fdd0cbc5cea3": {
     "id": "9a7b1d88-19b0-4e19-aeb5-fdd0cbc5cea3",
     "prev": null,
     "regions": {
      "51688fb7-97e7-4dea-9e65-ba80354ac627": {
       "attrs": {
        "height": 0.8,
        "width": 0.8,
        "x": 0.1,
        "y": 0.1
       },
       "content": {
        "cell": "58413a46-7274-4ad5-abe9-bd5a4982c4ba",
        "part": "whole"
       },
       "id": "51688fb7-97e7-4dea-9e65-ba80354ac627"
      }
     }
    }
   },
   "themes": {}
  }
 },
 "nbformat": 4,
 "nbformat_minor": 0
}
